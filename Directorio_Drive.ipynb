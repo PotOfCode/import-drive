{
  "nbformat": 4,
  "nbformat_minor": 0,
  "metadata": {
    "colab": {
      "provenance": [],
      "authorship_tag": "ABX9TyMgcHWv8UCmZbfZM3Ow46a1",
      "include_colab_link": true
    },
    "kernelspec": {
      "name": "python3",
      "display_name": "Python 3"
    },
    "language_info": {
      "name": "python"
    }
  },
  "cells": [
    {
      "cell_type": "markdown",
      "metadata": {
        "id": "view-in-github",
        "colab_type": "text"
      },
      "source": [
        "<a href=\"https://colab.research.google.com/github/PotOfCode/import-drive/blob/main/Directorio_Drive.ipynb\" target=\"_parent\"><img src=\"https://colab.research.google.com/assets/colab-badge.svg\" alt=\"Open In Colab\"/></a>"
      ]
    },
    {
      "cell_type": "code",
      "source": [
        "\n",
        "import os\n",
        "import time\n",
        "\n",
        "def colab_or_local():\n",
        "    try:\n",
        "        import google.colab\n",
        "        return True\n",
        "    except ImportError:\n",
        "        return False\n",
        "\n",
        "# Definir rutas según si es local o en la nube\n",
        "if colab_or_local():\n",
        "    from google.colab import drive\n",
        "    drive.mount('/content/drive')\n",
        "    directory = '/content/drive/MyDrive'\n",
        "    print(\"Programa Ejecutado en la Nube(Google Colab)\")\n",
        "else:\n",
        "    directory = './'\n",
        "    print(\"Programa Ejecutado de forma Local\")\n",
        "\n",
        "# Función para listar archivos (igual que antes)\n",
        "def list_files_in_directory(directory):\n",
        "    try:\n",
        "        files = os.listdir(directory)\n",
        "        print(\"Archivos en el directorio:\")\n",
        "        for file in files:\n",
        "            file_path = os.path.join(directory, file)\n",
        "            if os.path.isfile(file_path):\n",
        "                file_size = os.path.getsize(file_path)\n",
        "                print(f\"{file} - Tamaño: {file_size} bytes\")\n",
        "            elif os.path.isdir(file_path):\n",
        "                print(f\"{file} (Directorio)\")\n",
        "    except FileNotFoundError:\n",
        "        print(\"Directorio no encontrado.\")\n",
        "\n",
        "# Ejecutar\n",
        "list_files_in_directory(directory)"
      ],
      "metadata": {
        "colab": {
          "base_uri": "https://localhost:8080/"
        },
        "id": "Gvs9GOT9XRUG",
        "outputId": "489fabb1-b5ef-4cfe-f572-b5e6900680ff"
      },
      "execution_count": null,
      "outputs": [
        {
          "output_type": "stream",
          "name": "stdout",
          "text": [
            "Drive already mounted at /content/drive; to attempt to forcibly remount, call drive.mount(\"/content/drive\", force_remount=True).\n",
            "Programa Ejecutado en la Nube(Google Colab)\n",
            "Archivos en el directorio:\n",
            "DxD (Directorio)\n",
            "Classroom (Directorio)\n",
            "Colab Notebooks (Directorio)\n",
            "Diagrama sin título.drawio - Tamaño: 32499 bytes\n"
          ]
        }
      ]
    }
  ]
}